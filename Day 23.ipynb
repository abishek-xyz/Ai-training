{
 "cells": [
  {
   "cell_type": "code",
   "execution_count": 17,
   "id": "f4d0c2cb",
   "metadata": {},
   "outputs": [
    {
     "name": "stdout",
     "output_type": "stream",
     "text": [
      "         Employee2\n",
      "     Manager2\n",
      " CEO\n",
      "     Manager1\n",
      "         Employee1\n"
     ]
    }
   ],
   "source": [
    "# Assignment 5  - 7/8/2025\n",
    "\n",
    "# 1. Organizational Hierarchy (Tree View)\n",
    "# Scenario:\n",
    "# A company’s reporting structure:\n",
    "#           CEO\n",
    "#          /   \\\n",
    "#     Manager1 Manager2\n",
    "#      /             \\\n",
    "#   Employee1     Employee2\n",
    "# Why Binary Tree?\n",
    "# •\tEach person can report to one manager (parent), and may have up to 2 direct subordinates.\n",
    "# Use-case:\n",
    "# •\tTraversals (level order, in-order) can be used to generate org charts or send emails level-wise.\n",
    "\n",
    "\n",
    "\n",
    "class Node():\n",
    "    def __init__(self,val):\n",
    "        self.val = val\n",
    "        self.left = None\n",
    "        self.right = None\n",
    "\n",
    "root = Node(\"CEO\")\n",
    "root.left = Node(\"Manager1\")\n",
    "root.right = Node(\"Manager2\")\n",
    "root.left.left = Node(\"Employee1\")\n",
    "root.right.right = Node(\"Employee2\")\n",
    "\n",
    "\n",
    "def inorder(root):\n",
    "    if root:\n",
    "        inorder(root.left)\n",
    "        print(root.val, end=\" \")\n",
    "        inorder(root.right)\n",
    "\n",
    "def preorder(root):\n",
    "    if root:\n",
    "        print(root.val, end=\" \")\n",
    "        preorder(root.left)\n",
    "        preorder(root.right)\n",
    "\n",
    "def postorder(root):\n",
    "    if root:\n",
    "        postorder(root.left)\n",
    "        postorder(root.right)\n",
    "        print(root.val, end=\" \")\n",
    "\n",
    "def print_tree(node, level=0):\n",
    "    if node is not None:\n",
    "        print_tree(node.right, level + 1)\n",
    "        print(\"    \" * level, node.val)\n",
    "        print_tree(node.left, level + 1)\n",
    "\n",
    "print_tree(root)\n"
   ]
  },
  {
   "cell_type": "code",
   "execution_count": 18,
   "id": "9e40bf8b",
   "metadata": {},
   "outputs": [
    {
     "name": "stdout",
     "output_type": "stream",
     "text": [
      "        Q4\n",
      "    Semi2\n",
      "        Q3\n",
      "Final\n",
      "        Q2\n",
      "    Semi1\n",
      "        Q1\n"
     ]
    }
   ],
   "source": [
    "# 2. Tournament Bracket System\n",
    "# Scenario:\n",
    "# Any knockout-style tournament:\n",
    "#        Final\n",
    "#       /     \\\n",
    "#   Semi1     Semi2\n",
    "#    /  \\     /  \\\n",
    "#  Q1  Q2   Q3  Q4\n",
    "# Why Binary Tree?\n",
    "# •\tEach match has two players (left/right).\n",
    "# •\tThe winner moves up as the parent node (next match).\n",
    "# Use-case:\n",
    "# •\tWinner determination, path to final, etc.\n",
    "\n",
    "\n",
    "\n",
    "class Node():\n",
    "    def __init__(self, val):\n",
    "        self.val = val\n",
    "        self.left = None\n",
    "        self.right = None\n",
    "\n",
    "q1 = Node(\"Q1\")\n",
    "q2 = Node(\"Q2\")\n",
    "q3 = Node(\"Q3\")\n",
    "q4 = Node(\"Q4\")\n",
    "\n",
    "semi1 = Node(\"Semi1\")\n",
    "semi1.left = q1\n",
    "semi1.right = q2\n",
    "\n",
    "semi2 = Node(\"Semi2\")\n",
    "semi2.left = q3\n",
    "semi2.right = q4\n",
    "\n",
    "final = Node(\"Final\")\n",
    "final.left = semi1\n",
    "final.right = semi2\n",
    "\n",
    "\n",
    "def inorder(root):\n",
    "    if root:\n",
    "        inorder(root.left)\n",
    "        print(root.val, end=\" \")\n",
    "        inorder(root.right)\n",
    "\n",
    "def preorder(root):\n",
    "    if root:\n",
    "        print(root.val, end=\" \")\n",
    "        preorder(root.left)\n",
    "        preorder(root.right)\n",
    "\n",
    "def postorder(root):\n",
    "    if root:\n",
    "        postorder(root.left)\n",
    "        postorder(root.right)\n",
    "        print(root.val, end=\" \")\n",
    "\n",
    "def print_tree(node, level=0):\n",
    "    if node:\n",
    "        print_tree(node.right, level + 1)\n",
    "        print(\"    \" * level + node.val)\n",
    "        print_tree(node.left, level + 1)\n",
    "\n",
    "\n",
    "print_tree(final)\n"
   ]
  },
  {
   "cell_type": "code",
   "execution_count": 19,
   "id": "4757e6c9",
   "metadata": {},
   "outputs": [
    {
     "name": "stdout",
     "output_type": "stream",
     "text": [
      "        1\n",
      "    -\n",
      "        2\n",
      "*\n",
      "        5\n",
      "    +\n",
      "        3\n"
     ]
    }
   ],
   "source": [
    "class Node():\n",
    "    def __init__(self, val):\n",
    "        self.val = val\n",
    "        self.left = None\n",
    "        self.right = None\n",
    "\n",
    "root = Node(\"*\")\n",
    "root.left = Node(\"+\")\n",
    "root.right = Node(\"-\")\n",
    "\n",
    "root.left.left = Node(\"3\")\n",
    "root.left.right = Node(\"5\")\n",
    "root.right.left =Node(\"2\")\n",
    "root.right.right = Node(\"1\")\n",
    "def inorder(root):\n",
    "    if root:\n",
    "        if root.left or root.right:\n",
    "            print(\"(\", end=\"\")\n",
    "        inorder(root.left)\n",
    "        print(root.val, end=\" \")\n",
    "        inorder(root.right)\n",
    "        if root.left or root.right:\n",
    "            print(\")\", end=\"\")\n",
    "\n",
    "def preorder(root):\n",
    "    if root:\n",
    "        print(root.val, end=\" \")\n",
    "        preorder(root.left)\n",
    "        preorder(root.right)\n",
    "\n",
    "def postorder(root):\n",
    "    if root:\n",
    "        postorder(root.left)\n",
    "        postorder(root.right)\n",
    "        print(root.val, end=\" \")\n",
    "\n",
    "def evaluate(root):\n",
    "    if not root.left and not root.right:\n",
    "        return int(root.val)\n",
    "    l = evaluate(root.left)\n",
    "    r = evaluate(root.right)\n",
    "    if root.val == '+': return l + r\n",
    "    if root.val == '-': return l - r\n",
    "    if root.val == '*': return l * r\n",
    "    if root.val == '/': return l // r \n",
    "\n",
    "def print_tree(node, level=0):\n",
    "    if node:\n",
    "        print_tree(node.right, level + 1)\n",
    "        print(\"    \" * level + node.val)\n",
    "        print_tree(node.left, level + 1)\n",
    "\n",
    "\n",
    "print_tree(root)\n"
   ]
  },
  {
   "cell_type": "code",
   "execution_count": 20,
   "id": "cefa4414",
   "metadata": {},
   "outputs": [
    {
     "name": "stdout",
     "output_type": "stream",
     "text": [
      "1  2  3  4  5  6  "
     ]
    }
   ],
   "source": [
    "#DAY-23\n",
    "#Breadth first search\n",
    "\n",
    "class Node:\n",
    "    def __init__(self,val):\n",
    "        self.val=val\n",
    "        self.left=None\n",
    "        self.right=None\n",
    "root=Node(1)\n",
    "root.left=Node(2)\n",
    "root.right=Node(3)\n",
    "root.left.left=Node(4)\n",
    "root.left.right=Node(5)\n",
    "root.right.right=Node(6)\n",
    "from collections import deque\n",
    "def bfs(root):\n",
    "    if not root:\n",
    "        return\n",
    "    q=deque()\n",
    "    q.append(root)\n",
    "    while q:\n",
    "        node=q.popleft()\n",
    "        print(node.val,end='  ')\n",
    "\n",
    "        if node.left:\n",
    "            q.append(node.left)\n",
    "            \n",
    "        if node.right:\n",
    "            q.append(node.right)    \n",
    "bfs(root)        "
   ]
  },
  {
   "cell_type": "code",
   "execution_count": 21,
   "id": "31bcd97b",
   "metadata": {},
   "outputs": [
    {
     "name": "stdout",
     "output_type": "stream",
     "text": [
      "1  2  4  5  3  6  "
     ]
    }
   ],
   "source": [
    "#PREORDER:\n",
    "\n",
    "class Node:\n",
    "    def __init__(self, val):\n",
    "        self.val = val\n",
    "        self.left = None\n",
    "        self.right = None\n",
    "\n",
    "root = Node(1)\n",
    "root.left = Node(2)\n",
    "root.right = Node(3)\n",
    "root.left.left = Node(4)\n",
    "root.left.right = Node(5)\n",
    "root.right.right = Node(6)\n",
    "\n",
    "def preorder(root):\n",
    "    if not root:\n",
    "        return\n",
    "    print(root.val, end='  ')    \n",
    "    preorder(root.left)           \n",
    "    preorder(root.right)          \n",
    "\n",
    "preorder(root)\n",
    "\n"
   ]
  },
  {
   "cell_type": "code",
   "execution_count": 22,
   "id": "02e88104",
   "metadata": {},
   "outputs": [],
   "source": [
    "#GRAPH:\n",
    "\n",
    "#A graph is a non linear data structure that consists of vertices(nodes) and edges."
   ]
  },
  {
   "cell_type": "code",
   "execution_count": 23,
   "id": "6ab7ad1d",
   "metadata": {},
   "outputs": [
    {
     "data": {
      "text/plain": [
       "'\\n1.Directed:one way roads\\n2.Undirected:Two way roads\\n3.weighted:Distance/cost attached\\n4.unweighted\\n5.cyclic:routes that loop back\\n6.Acyclic:no loops\\n'"
      ]
     },
     "execution_count": 23,
     "metadata": {},
     "output_type": "execute_result"
    }
   ],
   "source": [
    "#Types of Graph\n",
    "'''\n",
    "1.Directed:one way roads\n",
    "2.Undirected:Two way roads\n",
    "3.weighted:Distance/cost attached\n",
    "4.unweighted\n",
    "5.cyclic:routes that loop back\n",
    "6.Acyclic:no loops\n",
    "'''  "
   ]
  },
  {
   "cell_type": "code",
   "execution_count": 24,
   "id": "e7480bfe",
   "metadata": {},
   "outputs": [
    {
     "data": {
      "text/plain": [
       "'\\nAdjacency list->(python dict of lists)\\nAdjacency matrix->(for dense graphs)\\n'"
      ]
     },
     "execution_count": 24,
     "metadata": {},
     "output_type": "execute_result"
    }
   ],
   "source": [
    "#Graph representation\n",
    "'''\n",
    "Adjacency list->(python dict of lists)\n",
    "Adjacency matrix->(for dense graphs)\n",
    "'''"
   ]
  },
  {
   "cell_type": "code",
   "execution_count": 25,
   "id": "11242c76",
   "metadata": {},
   "outputs": [
    {
     "name": "stdout",
     "output_type": "stream",
     "text": [
      "{'A': ['B', 'C'], 'B': ['A'], 'C': ['A']}\n"
     ]
    }
   ],
   "source": [
    "#Represent a simple city map\n",
    "'''Lets consider you have 3 cities:A,B,C\n",
    "        There are roads:\n",
    "        A<->B\n",
    "        A<->C\n",
    "'''\n",
    "graph={\n",
    "    'A':['B','C'],\n",
    "    'B':['A'],\n",
    "    'C':['A']\n",
    "}\n",
    "print(graph)        "
   ]
  },
  {
   "cell_type": "code",
   "execution_count": 26,
   "id": "5f7be5f2",
   "metadata": {},
   "outputs": [
    {
     "name": "stdout",
     "output_type": "stream",
     "text": [
      "A->B->D\n",
      "A->C->D\n"
     ]
    }
   ],
   "source": [
    "#print all cities connected to A\n",
    "def all_paths(graph,start,end,path=[]):\n",
    "    path=path+[start]\n",
    "    if start==end:\n",
    "        print(\"->\".join(path))\n",
    "        return\n",
    "    for neighbor in graph[start]:\n",
    "        if neighbor not in path:\n",
    "            all_paths(graph,neighbor,end,path)\n",
    "\n",
    "#Test\n",
    "graph={\n",
    "    'A':['B','C'],\n",
    "    'B':['D'],\n",
    "    'C':['D'],\n",
    "    'D':[]\n",
    "} \n",
    "all_paths(graph,'A','D')           "
   ]
  },
  {
   "cell_type": "code",
   "execution_count": 27,
   "id": "a7d2a60e",
   "metadata": {},
   "outputs": [
    {
     "name": "stdout",
     "output_type": "stream",
     "text": [
      "A->B->D\n",
      "A->C->D\n"
     ]
    }
   ],
   "source": [
    "#print all paths from start to end\n",
    "def all_paths(graph,start,end,path=[]):\n",
    "    path=path+[start]\n",
    "    if start==end:\n",
    "        print(\"->\".join(path))\n",
    "        return\n",
    "    for i in graph[start]:\n",
    "        if i not in path:\n",
    "            all_paths(graph,i,end,path)\n",
    "\n",
    "#Test\n",
    "graph={\n",
    "'A':['B','C'],\n",
    "    'B':['D'],\n",
    "    'C':['D'],\n",
    "    'D':[  ]\n",
    "} \n",
    "all_paths(graph,'A','D')           "
   ]
  },
  {
   "cell_type": "code",
   "execution_count": 28,
   "id": "67d24bec",
   "metadata": {},
   "outputs": [
    {
     "name": "stdout",
     "output_type": "stream",
     "text": [
      "A\n",
      "B\n",
      "C\n",
      "D\n",
      "E\n"
     ]
    }
   ],
   "source": [
    "from collections import deque\n",
    "def bfs(graph,start):\n",
    "    visited=set()\n",
    "    queue=deque([start])\n",
    "\n",
    "    while queue:\n",
    "        node=queue.popleft()\n",
    "        if node not in visited:\n",
    "            print(node)\n",
    "            visited.add(node)\n",
    "            for i in graph[node]:\n",
    "                queue.append(i)\n",
    "graph={\n",
    "    'A':['B','C'],\n",
    "    'B':['D'],\n",
    "    'C':['E'],\n",
    "    'D':[ ] ,\n",
    "    'E':[]  \n",
    "}\n",
    "\n",
    "bfs(graph,'A')"
   ]
  },
  {
   "cell_type": "code",
   "execution_count": 29,
   "id": "ff43274a",
   "metadata": {},
   "outputs": [
    {
     "name": "stdout",
     "output_type": "stream",
     "text": [
      "A\n",
      "B\n",
      "D\n",
      "C\n",
      "E\n"
     ]
    }
   ],
   "source": [
    "\n",
    "#DFS-Depth first search:\n",
    "\n",
    "def dfs(graph, start, visited=None):\n",
    "    if visited is None:\n",
    "        visited = set()\n",
    "    print(start)\n",
    "    visited.add(start)\n",
    "\n",
    "    for i in graph[start]:\n",
    "        if i not in visited:\n",
    "            dfs(graph, i, visited)  # recursion\n",
    "\n",
    "graph = {\n",
    "    'A': ['B', 'C'],\n",
    "    'B': ['D'],\n",
    "    'C': ['E'],\n",
    "    'D': [],\n",
    "    'E': []\n",
    "}\n",
    "\n",
    "dfs(graph, 'A')"
   ]
  },
  {
   "cell_type": "code",
   "execution_count": 30,
   "id": "9f90798b",
   "metadata": {},
   "outputs": [
    {
     "name": "stdout",
     "output_type": "stream",
     "text": [
      "{'A': ['B', 'C'], 'B': ['A', 'D'], 'C': ['A'], 'D': ['B']}\n"
     ]
    }
   ],
   "source": [
    "#Add edges\n",
    "def add_edge(graph,u,v):\n",
    "    if u not in graph:\n",
    "        graph[u]=[]\n",
    "    if v not in graph:\n",
    "        graph[v]=[]\n",
    "    graph[u].append(v)\n",
    "    graph[v].append(u)\n",
    "graph={}\n",
    "add_edge(graph,'A','B')\n",
    "add_edge(graph,'A','C')\n",
    "add_edge(graph,'B','D')\n",
    "\n",
    "print(graph)"
   ]
  },
  {
   "cell_type": "code",
   "execution_count": 31,
   "id": "dc798da5",
   "metadata": {},
   "outputs": [
    {
     "name": "stdout",
     "output_type": "stream",
     "text": [
      "4\n"
     ]
    }
   ],
   "source": [
    "#Count Nodes in a graph using DFS:\n",
    "def count_nodes(graph,start,visited=None):\n",
    "    if visited is None:\n",
    "        visited=set()\n",
    "    visited.add(start)\n",
    "    count=1\n",
    "    for neighbor in graph[start]:\n",
    "        if neighbor not in visited:\n",
    "            count+=count_nodes(graph,neighbor,visited)\n",
    "    return count\n",
    "#Test\n",
    "graph={\n",
    "    'A':['B','C'],\n",
    "    'B':['D'],\n",
    "    'C':[],\n",
    "    'D':[]\n",
    "}\n",
    "print(count_nodes(graph,'A'))"
   ]
  },
  {
   "cell_type": "code",
   "execution_count": 32,
   "id": "fe75130c",
   "metadata": {},
   "outputs": [
    {
     "name": "stdout",
     "output_type": "stream",
     "text": [
      "True\n",
      "False\n"
     ]
    }
   ],
   "source": [
    "#check if path exits between two nodes(DFS)\n",
    "def has_path(graph,src,dst,visited=None):\n",
    "    if visited is None:\n",
    "        visited=set()\n",
    "    if src ==dst:\n",
    "        return True\n",
    "    visited.add(src)\n",
    "\n",
    "    for neighbor in graph [src]:\n",
    "        if neighbor not in visited:\n",
    "            if has_path(graph,neighbor,dst,visited):\n",
    "                return True\n",
    "            return False\n",
    "\n",
    "#Test\n",
    "graph={\n",
    "    'A':['B'],\n",
    "    'B':['C'],\n",
    "    'C':[],\n",
    "    'D':[]\n",
    "}\n",
    "print(has_path(graph,'A','C'))\n",
    "print(has_path(graph,'A','D'))"
   ]
  },
  {
   "cell_type": "code",
   "execution_count": 33,
   "id": "f2595456",
   "metadata": {},
   "outputs": [
    {
     "name": "stdout",
     "output_type": "stream",
     "text": [
      "True\n"
     ]
    }
   ],
   "source": [
    "# Cycle Detection Code\n",
    "def has_cycle(g):\n",
    "    v = set()\n",
    "    def dfs(n, p):\n",
    "        v.add(n)\n",
    "        for i in g[n]:\n",
    "            if i not in v:\n",
    "                if dfs(i, n):\n",
    "                    return True\n",
    "            elif i != p:\n",
    "                return True\n",
    "        return False\n",
    "    for node in g:\n",
    "        if node not in v:\n",
    "            if dfs(node, None):\n",
    "                return True\n",
    "    return False\n",
    "\n",
    "graph = {\n",
    "    'A': ['B'],\n",
    "    'B': ['C'],\n",
    "    'C': ['A'],\n",
    "    'D': []\n",
    "}\n",
    "print(has_cycle(graph))"
   ]
  }
 ],
 "metadata": {
  "kernelspec": {
   "display_name": "Python 3",
   "language": "python",
   "name": "python3"
  },
  "language_info": {
   "codemirror_mode": {
    "name": "ipython",
    "version": 3
   },
   "file_extension": ".py",
   "mimetype": "text/x-python",
   "name": "python",
   "nbconvert_exporter": "python",
   "pygments_lexer": "ipython3",
   "version": "3.13.5"
  }
 },
 "nbformat": 4,
 "nbformat_minor": 5
}
